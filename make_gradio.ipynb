{
 "cells": [
  {
   "cell_type": "code",
   "execution_count": 2,
   "metadata": {},
   "outputs": [],
   "source": [
    "import gradio as gr\n",
    "\n",
    "from langchain.embeddings.openai import OpenAIEmbeddings\n",
    "from langchain.vectorstores import FAISS\n",
    "from langchain.chains import RetrievalQA\n",
    "from langchain.chat_models import ChatOpenAI"
   ]
  },
  {
   "cell_type": "code",
   "execution_count": 3,
   "metadata": {},
   "outputs": [],
   "source": [
    "def initialize_chat_bot(vector_store_dir: str=\"real_qa_500\"):\n",
    "    db = FAISS.load_local(\n",
    "        vector_store_dir, \n",
    "        OpenAIEmbeddings()\n",
    "    )\n",
    "    llm = ChatOpenAI(\n",
    "        model_name=\"gpt-3.5-turbo\",\n",
    "        temperature=0\n",
    "    )\n",
    "    \n",
    "    global CHAT_BOT    \n",
    "    CHAT_BOT = RetrievalQA.from_chain_type(llm,\n",
    "                                           retriever=db.as_retriever(search_type=\"similarity_score_threshold\",\n",
    "                                                                     search_kwargs={\"score_threshold\": 0.8}))\n",
    "    # 返回向量数据库的检索结果\n",
    "    CHAT_BOT.return_source_documents = True\n",
    "\n",
    "    return CHAT_BOT"
   ]
  },
  {
   "cell_type": "code",
   "execution_count": 4,
   "metadata": {},
   "outputs": [],
   "source": [
    "def chat_robot(message, history):\n",
    "    print(f\"[message]{message}\")\n",
    "    print(f\"[history]{history}\")\n",
    "    # TODO: 从命令行参数中获取\n",
    "    enable_chat = True\n",
    "\n",
    "    ans = CHAT_BOT({\"query\": message})\n",
    "    # 如果检索出结果，或者开了大模型聊天模式\n",
    "    # 返回 RetrievalQA combine_documents_chain 整合的结果\n",
    "    if ans[\"source_documents\"] or enable_chat:\n",
    "        print(f\"[result]{ans['result']}\")\n",
    "        print(f\"[source_documents]{ans['source_documents']}\")\n",
    "        return ans[\"result\"]\n",
    "    # 否则输出套路话术\n",
    "    else:\n",
    "        return \"这个你最好去医院看一下\""
   ]
  },
  {
   "cell_type": "code",
   "execution_count": 6,
   "metadata": {},
   "outputs": [],
   "source": [
    "def launch_gradio():\n",
    "    demo = gr.ChatInterface(\n",
    "        fn=chat_robot,\n",
    "        title=\"医疗问答\",\n",
    "        # retry_btn=None,\n",
    "        # undo_btn=None,\n",
    "        chatbot=gr.Chatbot(height=600),\n",
    "    )\n",
    "\n",
    "    demo.launch(share=True, server_name=\"0.0.0.0\")"
   ]
  },
  {
   "cell_type": "code",
   "execution_count": 7,
   "metadata": {},
   "outputs": [
    {
     "name": "stdout",
     "output_type": "stream",
     "text": [
      "Running on local URL:  http://0.0.0.0:7860\n",
      "\n",
      "Could not create share link. Please check your internet connection or our status page: https://status.gradio.app.\n"
     ]
    },
    {
     "data": {
      "text/html": [
       "<div><iframe src=\"http://localhost:7860/\" width=\"100%\" height=\"500\" allow=\"autoplay; camera; microphone; clipboard-read; clipboard-write;\" frameborder=\"0\" allowfullscreen></iframe></div>"
      ],
      "text/plain": [
       "<IPython.core.display.HTML object>"
      ]
     },
     "metadata": {},
     "output_type": "display_data"
    },
    {
     "name": "stdout",
     "output_type": "stream",
     "text": [
      "[message]血尿怎么办\n",
      "[history][]\n"
     ]
    },
    {
     "name": "stderr",
     "output_type": "stream",
     "text": [
      "d:\\Anaconda3\\envs\\llm\\Lib\\site-packages\\langchain\\vectorstores\\base.py:266: UserWarning: No relevant docs were retrieved using the relevance score threshold 0.8\n",
      "  warnings.warn(\n"
     ]
    },
    {
     "name": "stdout",
     "output_type": "stream",
     "text": [
      "[result]血尿是指尿液中出现血液，可能是由于尿路感染、结石、肾脏疾病、肿瘤等引起的。如果出现血尿，建议您尽快就医，进行相关检查和诊断，以确定病因并采取相应的治疗措施。请咨询医生以获取专业建议。\n",
      "[source_documents][]\n"
     ]
    }
   ],
   "source": [
    "initialize_chat_bot()\n",
    "launch_gradio()"
   ]
  }
 ],
 "metadata": {
  "kernelspec": {
   "display_name": "llm",
   "language": "python",
   "name": "python3"
  },
  "language_info": {
   "codemirror_mode": {
    "name": "ipython",
    "version": 3
   },
   "file_extension": ".py",
   "mimetype": "text/x-python",
   "name": "python",
   "nbconvert_exporter": "python",
   "pygments_lexer": "ipython3",
   "version": "3.11.4"
  },
  "orig_nbformat": 4
 },
 "nbformat": 4,
 "nbformat_minor": 2
}
